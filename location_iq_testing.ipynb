{
 "cells": [
  {
   "cell_type": "code",
   "execution_count": 1,
   "metadata": {},
   "outputs": [],
   "source": [
    "import json\n",
    "from location_iq_requester import LocationIqRequester\n",
    "\n",
    "location_requester = LocationIqRequester()"
   ]
  },
  {
   "cell_type": "code",
   "execution_count": 6,
   "metadata": {},
   "outputs": [],
   "source": [
    "address = \"15 Rue D'Anvers, Luxembourg\"\n",
    "address_id = \"TEST_ID\"\n",
    "data = location_requester.get_location_details(address)"
   ]
  },
  {
   "cell_type": "code",
   "execution_count": 3,
   "metadata": {},
   "outputs": [
    {
     "data": {
      "text/plain": [
       "[{'place_id': '157241782',\n",
       "  'licence': 'https://locationiq.com/attribution',\n",
       "  'osm_type': 'way',\n",
       "  'osm_id': '164701332',\n",
       "  'boundingbox': ['49.6030486', '49.6032969', '6.1301069', '6.1303643'],\n",
       "  'lat': '49.6031679',\n",
       "  'lon': '6.130208836106345',\n",
       "  'display_name': \"15, Rue d'Anvers, Gare, Luxembourg, Canton Luxembourg, 1130, Luxembourg\",\n",
       "  'class': 'building',\n",
       "  'type': 'apartments',\n",
       "  'importance': 0.5200099999999999,\n",
       "  'address': {'house_number': '15',\n",
       "   'road': \"Rue d'Anvers\",\n",
       "   'suburb': 'Gare',\n",
       "   'city': 'Luxembourg',\n",
       "   'county': 'Canton Luxembourg',\n",
       "   'postcode': '1130',\n",
       "   'country': 'Luxembourg',\n",
       "   'country_code': 'lu'}}]"
      ]
     },
     "execution_count": 3,
     "metadata": {},
     "output_type": "execute_result"
    }
   ],
   "source": [
    "data"
   ]
  },
  {
   "cell_type": "code",
   "execution_count": 5,
   "metadata": {},
   "outputs": [
    {
     "data": {
      "text/plain": [
       "{'central_id': 'TEST_ID',\n",
       " 'place_id': '157241782',\n",
       " 'lon': '6.130208836106345',\n",
       " 'lat': '49.6031679',\n",
       " 'display_name': \"15, Rue d'Anvers, Gare, Luxembourg, Canton Luxembourg, 1130, Luxembourg\",\n",
       " 'type': 'apartments',\n",
       " 'city': 'Luxembourg',\n",
       " 'state': None,\n",
       " 'postcode': '1130',\n",
       " 'country': 'Luxembourg',\n",
       " 'country_code': 'lu'}"
      ]
     },
     "execution_count": 5,
     "metadata": {},
     "output_type": "execute_result"
    }
   ],
   "source": [
    "from scrape_api import (\n",
    "    build_raw_row_from_result\n",
    ")\n",
    "\n",
    "sample_row = build_raw_row_from_result(data, address_id)\n",
    "sample_row"
   ]
  }
 ],
 "metadata": {
  "kernelspec": {
   "display_name": "ml_env",
   "language": "python",
   "name": "python3"
  },
  "language_info": {
   "codemirror_mode": {
    "name": "ipython",
    "version": 3
   },
   "file_extension": ".py",
   "mimetype": "text/x-python",
   "name": "python",
   "nbconvert_exporter": "python",
   "pygments_lexer": "ipython3",
   "version": "3.9.8"
  }
 },
 "nbformat": 4,
 "nbformat_minor": 2
}
